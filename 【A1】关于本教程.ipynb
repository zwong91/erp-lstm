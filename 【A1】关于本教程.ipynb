{
 "cells": [
  {
   "cell_type": "markdown",
   "id": "6d8cddd7-fd32-465f-8231-5238b932c7ff",
   "metadata": {},
   "source": [
    "# 关于本教程\n",
    "\n",
    "2024-10-15\n",
    "\n",
    "## 概述\n",
    "\n",
    "LSTM Long Short-Term Memory LSTM Recurrent Neural Network 长短期记忆网络，适合时间序列预测。\n",
    "\n",
    "本教程系统讲解了使用Keras完成推理预测、数据集构建、模型训练、性能评估、部署的全流程。\n",
    "\n",
    "- 安装配置Keras环境\n",
    "\n",
    "- 预训练模型推理预测\n",
    "\n",
    "- 标注准备自己的数据集\n",
    "\n",
    "- 训练自己的Keras算法：库存和销售\n",
    "\n",
    "- 模型推理预测：未来7d, 1month\n",
    "\n",
    "- 评估模型性能：速度与精度评估\n",
    "\n",
    "- 模型部署：转ONNX格式、部署\n"
   ]
  },
  {
   "cell_type": "markdown",
   "id": "7367189b",
   "metadata": {},
   "source": [
    "# minicoda3 & Cuda 12.1 & py3.10 基础环境"
   ]
  },
  {
   "cell_type": "code",
   "execution_count": null,
   "id": "ecccb130-63f8-4be6-b318-be7650b8144f",
   "metadata": {},
   "outputs": [],
   "source": [
    "# pre-instsall.sh 脚本\n",
    "## 安装 miniconda, PyTorch/CUDA 的 conda 环境\n",
    "mkdir -p ~/miniconda3\n",
    "wget https://repo.anaconda.com/miniconda/Miniconda3-latest-Linux-x86_64.sh -O ~/miniconda3/miniconda.sh\n",
    "bash ~/miniconda3/miniconda.sh -b -u -p ~/miniconda3\n",
    "rm -rf ~/miniconda3/miniconda.sh\n",
    "~/miniconda3/bin/conda init bash && source ~/miniconda3/bin/activate\n",
    "conda config --set auto_activate_base false\n",
    "conda create -n erp-lstm python=3.10 -y\n",
    "conda activate erp-lstm\n",
    "## conda environments:\n",
    "conda env list                      \n",
    "nvidia-smi\n",
    "pip install transformers datasets evaluate peft accelerate gradio optimum sentencepiece bitsandbytes\n",
    "pip install jupyterlab scikit-learn pandas matplotlib tensorboard nitk rouge\n",
    "pip install jupyter ipykernel tensorboard huggingface_hub hub-sdk\n",
    "python -m ipykernel install --user --name erp-lstm --display-name \"conda & tensorflow(Keras2.5)\""
   ]
  }
 ],
 "metadata": {
  "kernelspec": {
   "display_name": "Python 3 (ipykernel)",
   "language": "python",
   "name": "python3"
  },
  "language_info": {
   "codemirror_mode": {
    "name": "ipython",
    "version": 3
   },
   "file_extension": ".py",
   "mimetype": "text/x-python",
   "name": "python",
   "nbconvert_exporter": "python",
   "pygments_lexer": "ipython3",
   "version": "3.10.14"
  }
 },
 "nbformat": 4,
 "nbformat_minor": 5
}
