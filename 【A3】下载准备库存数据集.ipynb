{
 "cells": [
  {
   "cell_type": "markdown",
   "id": "cb1a1e40-d82b-4457-bec9-c6925030f095",
   "metadata": {},
   "source": [
    "# 下载准备库存数据集\n",
    "\n",
    " 2024-10-15"
   ]
  },
  {
   "cell_type": "markdown",
   "id": "db1eaaf3-8e31-48a0-882e-fd40de53c631",
   "metadata": {},
   "source": [
    "## 下载数据集"
   ]
  },
  {
   "cell_type": "code",
   "execution_count": 1,
   "id": "bd32d473",
   "metadata": {},
   "outputs": [
    {
     "name": "stdout",
     "output_type": "stream",
     "text": [
      "Downloading data from https://storage.googleapis.com/tensorflow/tf-keras-datasets/jena_climate_2009_2016.csv.zip\n",
      "13568290/13568290 [==============================] - 4s 0us/step\n"
     ]
    }
   ],
   "source": [
    "import tensorflow as tf\n",
    "import os\n",
    "\n",
    "# 示例数据集\n",
    "zip_path = tf.keras.utils.get_file(\n",
    "    origin='https://storage.googleapis.com/tensorflow/tf-keras-datasets/jena_climate_2009_2016.csv.zip',\n",
    "    fname='jena_climate_2009_2016.csv.zip',\n",
    "    extract=True)\n",
    "csv_path, _ = os.path.splitext(zip_path)\n"
   ]
  },
  {
   "cell_type": "code",
   "execution_count": 3,
   "id": "1f62b24e",
   "metadata": {},
   "outputs": [
    {
     "data": {
      "text/plain": [
       "'/Users/es/.keras/datasets/jena_climate_2009_2016.csv.zip'"
      ]
     },
     "execution_count": 3,
     "metadata": {},
     "output_type": "execute_result"
    }
   ],
   "source": [
    "csv_path"
   ]
  },
  {
   "cell_type": "code",
   "execution_count": 4,
   "id": "af6d0d79-4371-436e-84fa-00fbb6205ee0",
   "metadata": {},
   "outputs": [
    {
     "name": "stdout",
     "output_type": "stream",
     "text": [
      "--2024-10-15 13:32:38--  https://storage.googleapis.com/tensorflow/tf-keras-datasets/jena_climate_2009_2016.csv.zip\n",
      "正在解析主机 storage.googleapis.com (storage.googleapis.com)... 142.251.33.91, 142.251.33.123, 142.250.217.91, ...\n",
      "正在连接 storage.googleapis.com (storage.googleapis.com)|142.251.33.91|:443... 已连接。\n",
      "已发出 HTTP 请求，正在等待回应... 200 OK\n",
      "长度：13568290 (13M) [application/zip]\n",
      "正在保存至: “datasets/jena_climate_2009_2016.csv.zip”\n",
      "\n",
      "jena_climate_2009_2 100%[===================>]  12.94M  5.28MB/s  用时 2.5s      \n",
      "\n",
      "2024-10-15 13:32:42 (5.28 MB/s) - 已保存 “datasets/jena_climate_2009_2016.csv.zip” [13568290/13568290])\n",
      "\n"
     ]
    }
   ],
   "source": [
    "\n",
    "# 下载示例数据集至 datasets 目录\n",
    "!rm -rf zip_path\n",
    "!wget https://storage.googleapis.com/tensorflow/tf-keras-datasets/jena_climate_2009_2016.csv.zip -P datasets"
   ]
  },
  {
   "cell_type": "markdown",
   "id": "38858435-c370-4ca0-87bc-111bddae02ec",
   "metadata": {},
   "source": [
    "## 解压数据集"
   ]
  },
  {
   "cell_type": "code",
   "execution_count": 6,
   "id": "084fe5ff-88fa-4f9b-94c1-33e1798383df",
   "metadata": {},
   "outputs": [],
   "source": [
    "# 解压\n",
    "!unzip datasets/jena_climate_2009_2016.csv.zip -d datasets >> /dev/null\n",
    "\n",
    "# 删除压缩包\n",
    "!rm -rf datasets/jena_climate_2009_2016.csv.zip"
   ]
  },
  {
   "cell_type": "markdown",
   "id": "7d45843a-0735-48f6-8337-fa923fe3a815",
   "metadata": {},
   "source": [
    "## 删除系统自动生成的多余文件"
   ]
  },
  {
   "cell_type": "markdown",
   "id": "b5f1c944-1497-4d3f-932c-d043a720c6a4",
   "metadata": {},
   "source": [
    "### 查看待删除的多余文件"
   ]
  },
  {
   "cell_type": "code",
   "execution_count": 7,
   "id": "cf7bd7ac-6682-4c65-8ce3-b1d52f942bf6",
   "metadata": {},
   "outputs": [],
   "source": [
    "!find . -iname '__MACOSX'"
   ]
  },
  {
   "cell_type": "code",
   "execution_count": 8,
   "id": "9df449b0-782f-4376-8b05-c141979d0461",
   "metadata": {},
   "outputs": [
    {
     "name": "stdout",
     "output_type": "stream",
     "text": [
      "./.DS_Store\n"
     ]
    }
   ],
   "source": [
    "!find . -iname '.DS_Store'"
   ]
  },
  {
   "cell_type": "code",
   "execution_count": 9,
   "id": "f78dc839-548d-4b46-8338-368dcfee1821",
   "metadata": {},
   "outputs": [],
   "source": [
    "!find . -iname '.ipynb_checkpoints'"
   ]
  },
  {
   "cell_type": "markdown",
   "id": "7ec649ab-d3d4-451e-986e-d87720f73a5e",
   "metadata": {},
   "source": [
    "### 删除多余文件"
   ]
  },
  {
   "cell_type": "code",
   "execution_count": 10,
   "id": "0d853448-0e94-4216-9699-30dd835c56ed",
   "metadata": {},
   "outputs": [],
   "source": [
    "!for i in `find . -iname '__MACOSX'`; do rm -rf $i;done"
   ]
  },
  {
   "cell_type": "code",
   "execution_count": 11,
   "id": "dfbf99c9-ef2b-4d4c-b2a3-8f568f2b9ec0",
   "metadata": {},
   "outputs": [],
   "source": [
    "!for i in `find . -iname '.DS_Store'`; do rm -rf $i;done"
   ]
  },
  {
   "cell_type": "code",
   "execution_count": 12,
   "id": "9debf0ea-f96b-41b8-8a36-ba6909fdcec1",
   "metadata": {},
   "outputs": [],
   "source": [
    "!for i in `find . -iname '.ipynb_checkpoints'`; do rm -rf $i;done"
   ]
  },
  {
   "cell_type": "markdown",
   "id": "ce08b044-b71e-463a-9122-7eccdc00004d",
   "metadata": {},
   "source": [
    "### 验证多余文件已删除"
   ]
  },
  {
   "cell_type": "code",
   "execution_count": 13,
   "id": "ad67020c-1abc-4468-ab9f-9f79e27e4821",
   "metadata": {},
   "outputs": [],
   "source": [
    "!find . -iname '__MACOSX'"
   ]
  },
  {
   "cell_type": "code",
   "execution_count": 14,
   "id": "5d5beb04-183a-4c22-b1d2-77a80c131a0e",
   "metadata": {},
   "outputs": [],
   "source": [
    "!find . -iname '.DS_Store'"
   ]
  },
  {
   "cell_type": "code",
   "execution_count": 15,
   "id": "ab2b69fe-bf09-4cea-add8-fbc56bafde8e",
   "metadata": {},
   "outputs": [],
   "source": [
    "!find . -iname '.ipynb_checkpoints'"
   ]
  },
  {
   "cell_type": "markdown",
   "id": "f87b06b8-27ba-453d-9a53-1fd917be2df4",
   "metadata": {},
   "source": [
    "## 查看目录结构"
   ]
  },
  {
   "cell_type": "code",
   "execution_count": 17,
   "id": "34d87e0f-a21a-47f3-a8a8-c5ffa67d328e",
   "metadata": {},
   "outputs": [
    {
     "name": "stdout",
     "output_type": "stream",
     "text": [
      "📁 erp-lstm/\n",
      "├─📄 【A2】安装配置Keras环境.ipynb\n",
      "├─📄 【A3】下载准备库存数据集.ipynb\n",
      "├─📁 datasets/\n",
      "│ └─📄 jena_climate_2009_2016.csv\n",
      "├─📄 【B】Keras训练参数介绍.ipynb\n",
      "├─📄 README.md\n",
      "├─📄 【A1】关于本教程.ipynb\n",
      "├─📄 【Z】思考与扩展.ipynb\n",
      "├─📄 jena_climate_2009_2016.csv\n",
      "└─📄 【C1】训练LSTM库存模型.ipynb\n"
     ]
    }
   ],
   "source": [
    "import seedir as sd\n",
    "sd.seedir('.', style='emoji', depthlimit=3)"
   ]
  },
  {
   "cell_type": "code",
   "execution_count": null,
   "id": "48730cbc-6988-43c4-87ac-d2bceb48071f",
   "metadata": {},
   "outputs": [],
   "source": []
  }
 ],
 "metadata": {
  "kernelspec": {
   "display_name": "hello1",
   "language": "python",
   "name": "python3"
  },
  "language_info": {
   "codemirror_mode": {
    "name": "ipython",
    "version": 3
   },
   "file_extension": ".py",
   "mimetype": "text/x-python",
   "name": "python",
   "nbconvert_exporter": "python",
   "pygments_lexer": "ipython3",
   "version": "3.10.14"
  }
 },
 "nbformat": 4,
 "nbformat_minor": 5
}
