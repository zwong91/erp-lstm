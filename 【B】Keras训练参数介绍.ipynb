{
 "cells": [
  {
   "cell_type": "markdown",
   "id": "56e787a6-fe76-496d-87d8-975379c74eed",
   "metadata": {},
   "source": [
    "# Keras训练参数介绍\n",
    "\n",
    " 2024-10-15"
   ]
  },
  {
   "cell_type": "markdown",
   "id": "908736bf-6db4-4c76-aee8-a364a34b2a65",
   "metadata": {
    "jp-MarkdownHeadingCollapsed": true,
    "tags": []
   },
   "source": [
    "## Keras训练命令行参数\n",
    "\n",
    "https://keras.io/guides/\n",
    "\n",
    "## Keras-预训练模型\n",
    "\n",
    "\n",
    "## 几个比较重要的训练参数\n",
    "\n",
    "model 模型\n",
    "\n",
    "pretrained 是否在预训练模型权重基础上迁移学习泛化微调\n",
    "\n",
    "epochs 训练轮次，默认100\n",
    "\n",
    "batch batch-size，默认16\n",
    "\n",
    "device 计算设备（device=0 或 device=0,1,2,3 或 device=cpu）\n",
    "\n",
    "project 项目名称，建议同一个数据集取同一个项目名称\n",
    "\n",
    "name 实验名称，建议每一次训练对应一个实验名称\n",
    "\n",
    "optimizer 梯度下降优化器，默认'SGD'，备选：['SGD', 'Adam', 'AdamW', 'RMSProp']"
   ]
  },
  {
   "cell_type": "markdown",
   "id": "0be6f276-d037-4e97-9c38-e53ae026b886",
   "metadata": {},
   "source": [
    "## 选择迁移学习训练方式\n",
    "\n",
    "可以保留预训练模型权重，在自己的数据集上迁移学习微调分类输出层或所有层。"
   ]
  },
  {
   "cell_type": "code",
   "execution_count": null,
   "id": "b6eefa93-0c3f-4540-923d-df3ed28c6819",
   "metadata": {},
   "outputs": [],
   "source": []
  }
 ],
 "metadata": {
  "kernelspec": {
   "display_name": "conda & pytorch(Ultralytics YOLOv8.2)",
   "language": "python",
   "name": "ultralytics"
  },
  "language_info": {
   "codemirror_mode": {
    "name": "ipython",
    "version": 3
   },
   "file_extension": ".py",
   "mimetype": "text/x-python",
   "name": "python",
   "nbconvert_exporter": "python",
   "pygments_lexer": "ipython3",
   "version": "3.10.14"
  }
 },
 "nbformat": 4,
 "nbformat_minor": 5
}
